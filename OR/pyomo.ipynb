{
 "cells": [
  {
   "cell_type": "code",
   "execution_count": 1,
   "metadata": {},
   "outputs": [
    {
     "data": {
      "text/plain": [
       "'\\nprint(os.environ[\\'PATH\\'])\\nGLPK_FOLDER_PATH = \"\\'~/Code/COIN-OR/bin/\\'\"\\nos.environ[\"PATH\"] += os.pathsep + str(GLPK_FOLDER_PATH)\\n'"
      ]
     },
     "execution_count": 1,
     "metadata": {},
     "output_type": "execute_result"
    }
   ],
   "source": [
    "#include solver in Path- workaround that works\n",
    "\"\"\"\n",
    "print(os.environ['PATH'])\n",
    "GLPK_FOLDER_PATH = \"'~/Code/COIN-OR/bin/'\"\n",
    "os.environ[\"PATH\"] += os.pathsep + str(GLPK_FOLDER_PATH)\n",
    "\"\"\""
   ]
  },
  {
   "cell_type": "code",
   "execution_count": 6,
   "metadata": {},
   "outputs": [
    {
     "data": {
      "text/plain": [
       "\" \\nimport matplotlib.pyplot as plt\\nimport numpy as np\\nimport shutil\\nimport sys\\nimport os.path\\nfrom pyomo.environ import *\\nfrom pyutilib.services import register_executable, registered_executable\\nregister_executable(name='glpk')\\nprint('Hi')\\n\""
      ]
     },
     "execution_count": 6,
     "metadata": {},
     "output_type": "execute_result"
    }
   ],
   "source": [
    "\"\"\" \n",
    "import matplotlib.pyplot as plt\n",
    "import numpy as np\n",
    "import shutil\n",
    "import sys\n",
    "import os.path\n",
    "from pyomo.environ import *\n",
    "from pyutilib.services import register_executable, registered_executable\n",
    "register_executable(name='glpk')\n",
    "\"\"\""
   ]
  },
  {
   "cell_type": "code",
   "execution_count": 7,
   "metadata": {},
   "outputs": [],
   "source": [
    "from __future__ import division\n",
    "import pyomo.environ as pyo"
   ]
  },
  {
   "cell_type": "code",
   "execution_count": 11,
   "metadata": {},
   "outputs": [],
   "source": [
    "model = pyo.AbstractModel()\n",
    "\n",
    "#declare the parameters \n",
    "model.m = pyo.Param(within=pyo.NonNegativeIntegers)\n",
    "model.n = pyo.Param(within=pyo.NonNegativeIntegers)\n",
    "\n",
    "#define index sets\n",
    "model.I = pyo.Set()\n",
    "model.J = pyo.Set()\n",
    "\n",
    "#The coefficient and right-hand-side data are defined as indexed parameters. \n",
    "#When sets are given as arguments to the Param component, they indicate that the set will index the parameter.\n",
    "model.a = pyo.Param(model.I, model.J)\n",
    "model.b = pyo.Param(model.I)\n",
    "model.c = pyo.Param(model.J)\n",
    "\n",
    "# the next line declares a variable indexed by the set J\n",
    "model.x = pyo.Var(model.J, domain=pyo.NonNegativeReals)\n",
    "\n",
    "def obj_expression(m):\n",
    "    return pyo.summation(m.c, m.x)\n",
    "\n",
    "model.OBJ = pyo.Objective(rule=obj_expression,sense='minimize')\n",
    "\n",
    "def ax_constraint_rule(m, i):\n",
    "    # return the expression for the constraint for i\n",
    "    return sum(m.a[i,j] * m.x[j] for j in m.J) >= m.b[i]\n",
    "\n",
    "# the next line creates one constraint for each member of the set model.I\n",
    "model.AxbConstraint = pyo.Constraint(model.I, rule=ax_constraint_rule)\n",
    "\n",
    "results = pyo.SolverFactory('glpk').solve(model)"
   ]
  },
  {
   "cell_type": "code",
   "execution_count": null,
   "metadata": {},
   "outputs": [],
   "source": []
  }
 ],
 "metadata": {
  "kernelspec": {
   "display_name": "env2-noy",
   "language": "python",
   "name": "python3"
  },
  "language_info": {
   "codemirror_mode": {
    "name": "ipython",
    "version": 3
   },
   "file_extension": ".py",
   "mimetype": "text/x-python",
   "name": "python",
   "nbconvert_exporter": "python",
   "pygments_lexer": "ipython3",
   "version": "3.10.0"
  },
  "orig_nbformat": 4
 },
 "nbformat": 4,
 "nbformat_minor": 2
}
